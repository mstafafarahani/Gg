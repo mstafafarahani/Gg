{
  "nbformat": 4,
  "nbformat_minor": 0,
  "metadata": {
    "colab": {
      "provenance": []
    },
    "kernelspec": {
      "name": "python3",
      "display_name": "Python 3"
    },
    "language_info": {
      "name": "python"
    }
  },
  "cells": [
    {
      "cell_type": "code",
      "execution_count": null,
      "metadata": {
        "id": "3I4qmbDJmsnu"
      },
      "outputs": [],
      "source": [
        "\n",
        "#I install and import package\n",
        "# %pip install geemap\n",
        "%pip install pygis\n",
        "import ee\n",
        "import geemap\n",
        "\n",
        "\n",
        "\n",
        "\n",
        "# I Register in Google Earth Engine\n",
        "cloud_project = 'ee-mstafafarahanit54f'\n",
        "try:\n",
        "    ee.Initialize(project=cloud_project)\n",
        "except:\n",
        "    ee.Authenticate()\n",
        "    ee.Initialize(project=cloud_project)"
      ]
    },
    {
      "cell_type": "markdown",
      "source": [
        "#3.3.1.1. Loading Earth Engine images"
      ],
      "metadata": {
        "id": "eApA7uXzqaZ9"
      }
    },
    {
      "cell_type": "code",
      "source": [
        "image = ee.Image('USGS/SRTMGL1_003')"
      ],
      "metadata": {
        "colab": {
          "base_uri": "https://localhost:8080/",
          "height": 17
        },
        "id": "C7G_hNjAqj5S",
        "outputId": "44fe202e-3ccd-4a19-c6c1-43af3658e41e"
      },
      "execution_count": null,
      "outputs": [
        {
          "output_type": "display_data",
          "data": {
            "text/plain": [
              "<IPython.core.display.HTML object>"
            ],
            "text/html": [
              "\n",
              "            <style>\n",
              "                .geemap-dark {\n",
              "                    --jp-widgets-color: white;\n",
              "                    --jp-widgets-label-color: white;\n",
              "                    --jp-ui-font-color1: white;\n",
              "                    --jp-layout-color2: #454545;\n",
              "                    background-color: #383838;\n",
              "                }\n",
              "\n",
              "                .geemap-dark .jupyter-button {\n",
              "                    --jp-layout-color3: #383838;\n",
              "                }\n",
              "\n",
              "                .geemap-colab {\n",
              "                    background-color: var(--colab-primary-surface-color, white);\n",
              "                }\n",
              "\n",
              "                .geemap-colab .jupyter-button {\n",
              "                    --jp-layout-color3: var(--colab-primary-surface-color, white);\n",
              "                }\n",
              "            </style>\n",
              "            "
            ]
          },
          "metadata": {}
        }
      ]
    },
    {
      "cell_type": "code",
      "source": [
        "image.getInfo()"
      ],
      "metadata": {
        "id": "7uGzdJ2VqrZP"
      },
      "execution_count": null,
      "outputs": []
    }
  ]
}